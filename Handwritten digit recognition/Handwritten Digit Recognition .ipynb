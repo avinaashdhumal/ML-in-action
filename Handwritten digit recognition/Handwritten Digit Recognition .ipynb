{
 "cells": [
  {
   "cell_type": "markdown",
   "metadata": {},
   "source": [
    "# Handwritten digit Neural Nework recognition "
   ]
  },
  {
   "cell_type": "code",
   "execution_count": 70,
   "metadata": {},
   "outputs": [],
   "source": [
    "import numpy as np\n",
    "import scipy.special as sp\n",
    "import matplotlib.pyplot as plt\n",
    "%matplotlib inline\n",
    "# Neural Network Class defination\n",
    "class neuralNetwork: #initialize the neural network\n",
    "    def __init__(self, inputnodes, hiddennodes, outputnodes, learningrate):\n",
    "        self.inodes= inputnodes\n",
    "        self.hnodes= hiddennodes\n",
    "        self.onodes=outputnodes\n",
    "        self.lr=learningrate\n",
    "        #link Weight matrices wih and who\n",
    "        #weights inside the array are w_i_j where link is from i to j in the next layer \n",
    "        # w11 w21\n",
    "        # w21 w22\n",
    "        self.wih=np.random.normal(0.0, pow(self.hnodes, -0.5),(self.hnodes, self.inodes))\n",
    "        self.who=np.random.normal(0.0, pow(self.onodes, -0.5),(self.onodes, self.hnodes))\n",
    "        # Acivation funstion which is nothing but sigmod funsction for when neuron should activate\n",
    "        self.activation_function=lambda x: sp.expit(x)\n",
    "        pass\n",
    "    \n",
    "    def train(self, inputs_list, targets_list): #train the neural network\n",
    "        # Conver input and target array into 2D \n",
    "        inputs=np.array(inputs_list, ndmin=2).T\n",
    "        targets=np.array(targets_list, ndmin=2).T\n",
    "        #Calculate the signal into hidden layer\n",
    "        hidden_inputs=np.dot(self.wih, inputs)\n",
    "        #Calculating the signal emerging from hidden layer\n",
    "        hidden_outputs=self.activation_function(hidden_inputs)\n",
    "        #Calculating the signal into the final layer\n",
    "        final_inputs=np.dot(self.who, hidden_outputs)\n",
    "        #Calculating the final output signal\n",
    "        final_outputs=self.activation_function(final_inputs)\n",
    "        #output layer error is (target-actual)\n",
    "        output_error=targets-final_outputs\n",
    "        #Hidden layer is the output_errors, splits by weights, recombined at the hidden nodes,\n",
    "        hidden_error= np.dot(self. who.T, output_error)\n",
    "        # Update the weights between hidden and output layer\n",
    "        self.who += self.lr*np.dot((output_error*final_outputs*(1.0-final_outputs)),np.transpose(hidden_outputs))\n",
    "        # update the weights between input and hidden l;ayer\n",
    "        self.wih += self.lr*np.dot((hidden_error*hidden_outputs*(1.0-hidden_outputs)),(np.transpose(inputs)))\n",
    "        pass\n",
    "    \n",
    "    def query(self, inputs_list): #Query the neural network\n",
    "        #Convert I/p list to 2D array\n",
    "        inputs=np.array(inputs_list, ndmin=2).T\n",
    "        #Calculate Hidden_inputs\n",
    "        hidden_inputs=np.dot(self.wih, inputs)\n",
    "        #Calculate O/P of hidden layer\n",
    "        hidden_outputs=self.activation_function(hidden_inputs)\n",
    "        #Calculate I/P of final layer\n",
    "        final_inputs=np.dot(self.who, hidden_outputs)\n",
    "        #calculating O/P of final Layer\n",
    "        final_outputs=self.activation_function(final_inputs)\n",
    "        return final_outputs"
   ]
  },
  {
   "cell_type": "code",
   "execution_count": 96,
   "metadata": {},
   "outputs": [],
   "source": [
    "input_nodes=784\n",
    "hidden_nodes=200\n",
    "output_nodes=10\n",
    "learning_rate=1.5\n",
    "#Creating instance for neural networks\n",
    "n=neuralNetwork(input_nodes, hidden_nodes, output_nodes, learning_rate)\n",
    "\n"
   ]
  },
  {
   "cell_type": "code",
   "execution_count": 97,
   "metadata": {},
   "outputs": [],
   "source": [
    "#Loding mnist data\n",
    "training_data_file=open('mnist_train_100.csv', 'r')\n",
    "training_data_list=training_data_file.readlines()\n",
    "training_data_file.close()"
   ]
  },
  {
   "cell_type": "code",
   "execution_count": 98,
   "metadata": {},
   "outputs": [],
   "source": [
    "#Training Neural Networks\n",
    "# epochs is the number of times the training data set is used for training\n",
    "epochs = 10\n",
    "\n",
    "for e in range(epochs):\n",
    "    # go through all records in the training data set\n",
    "    for record in training_data_list:\n",
    "        # split the record by the ',' commas\n",
    "        all_values = record.split(',')\n",
    "        # scale and shift the inputs\n",
    "        inputs = (np.asfarray(all_values[1:]) / 255.0 * 0.99) + 0.01\n",
    "        # create the target output values (all 0.01, except the desired label which is 0.99)\n",
    "        targets = np.zeros(output_nodes) + 0.01\n",
    "        # all_values[0] is the target label for this record\n",
    "        targets[int(all_values[0])] = 0.99\n",
    "        n.train(inputs, targets)\n",
    "        pass\n",
    "    pass"
   ]
  },
  {
   "cell_type": "code",
   "execution_count": 99,
   "metadata": {},
   "outputs": [],
   "source": [
    "# load the mnist test data CSV file into a list\n",
    "test_data_file = open(\"mnist_test_10.csv\", 'r')\n",
    "test_data_list = test_data_file.readlines()\n",
    "test_data_file.close()"
   ]
  },
  {
   "cell_type": "code",
   "execution_count": 100,
   "metadata": {},
   "outputs": [
    {
     "name": "stdout",
     "output_type": "stream",
     "text": [
      "correct labe:  7\n",
      "7 Network Answer\n",
      "correct labe:  2\n",
      "0 Network Answer\n",
      "correct labe:  1\n",
      "1 Network Answer\n",
      "correct labe:  0\n",
      "0 Network Answer\n",
      "correct labe:  4\n",
      "4 Network Answer\n",
      "correct labe:  1\n",
      "1 Network Answer\n",
      "correct labe:  4\n",
      "4 Network Answer\n",
      "correct labe:  9\n",
      "4 Network Answer\n",
      "correct labe:  5\n",
      "5 Network Answer\n",
      "correct labe:  9\n",
      "4 Network Answer\n",
      "[1, 0, 1, 1, 1, 1, 1, 0, 1, 0]\n"
     ]
    }
   ],
   "source": [
    "scorecard=[]\n",
    "#Checking all the records in test data get right or wrong prediction using our Neural netowork\n",
    "for record in test_data_list:\n",
    "    #split the records with ','\n",
    "    all_values=record.split(',')\n",
    "    correct_label=int(all_values[0])\n",
    "    print('correct labe: ', correct_label)\n",
    "    #scale and shift the input\n",
    "    input=(np.asfarray(all_values[1:])/255*0.99)+0.01\n",
    "    output=n.query(input)\n",
    "    #THe index of the highest value corrsponds to the label\n",
    "    label=np.argmax(output)\n",
    "    print(label, 'Network Answer')\n",
    "    # Append Correct and incorrect to list\n",
    "    if (label== correct_label):\n",
    "        #Append if ans is correct\n",
    "        scorecard.append(1)\n",
    "    else:\n",
    "        scorecard.append(0)\n",
    "        pass\n",
    "    pass\n",
    "\n",
    "print(scorecard)\n",
    "    \n",
    "    "
   ]
  },
  {
   "cell_type": "code",
   "execution_count": 102,
   "metadata": {},
   "outputs": [
    {
     "name": "stdout",
     "output_type": "stream",
     "text": [
      "Performanace=  0.7\n"
     ]
    }
   ],
   "source": [
    "#Accuracy\n",
    "scorecard_array=np.asarray(scorecard)\n",
    "print(\"Performanace= \", scorecard_array.sum()/scorecard_array.size)"
   ]
  },
  {
   "cell_type": "code",
   "execution_count": 75,
   "metadata": {},
   "outputs": [
    {
     "data": {
      "text/plain": [
       "<matplotlib.image.AxesImage at 0x231232c5278>"
      ]
     },
     "execution_count": 75,
     "metadata": {},
     "output_type": "execute_result"
    },
    {
     "data": {
      "image/png": "[encoded data removed]",
      "text/plain": [
       "<Figure size 432x288 with 1 Axes>"
      ]
     },
     "metadata": {
      "needs_background": "light"
     },
     "output_type": "display_data"
    }
   ],
   "source": [
    "img_array=np.asfarray(all_values[1:]).reshape((28,28))\n",
    "plt.imshow(img_array, cmap=\"Greys\", interpolation='None')"
   ]
  }
 ],
 "metadata": {
  "kernelspec": {
   "display_name": "Python 3",
   "language": "python",
   "name": "python3"
  },
  "language_info": {
   "codemirror_mode": {
    "name": "ipython",
    "version": 3
   },
   "file_extension": ".py",
   "mimetype": "text/x-python",
   "name": "python",
   "nbconvert_exporter": "python",
   "pygments_lexer": "ipython3",
   "version": "3.6.8"
  }
 },
 "nbformat": 4,
 "nbformat_minor": 4
}
